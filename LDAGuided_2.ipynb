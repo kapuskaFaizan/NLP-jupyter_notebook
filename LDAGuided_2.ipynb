{
  "nbformat": 4,
  "nbformat_minor": 0,
  "metadata": {
    "colab": {
      "name": "LDAGuided_2.ipynb",
      "provenance": [],
      "collapsed_sections": [],
      "authorship_tag": "ABX9TyMgF3vv1yZWLLvmsIodY5dW",
      "include_colab_link": true
    },
    "kernelspec": {
      "name": "python3",
      "display_name": "Python 3"
    }
  },
  "cells": [
    {
      "cell_type": "markdown",
      "metadata": {
        "id": "view-in-github",
        "colab_type": "text"
      },
      "source": [
        "<a href=\"https://colab.research.google.com/github/kapuskaFaizan/NLP-jupyter_notebook/blob/master/LDAGuided_2.ipynb\" target=\"_parent\"><img src=\"https://colab.research.google.com/assets/colab-badge.svg\" alt=\"Open In Colab\"/></a>"
      ]
    },
    {
      "cell_type": "code",
      "metadata": {
        "id": "AYiMcC8wnCqm",
        "colab_type": "code",
        "colab": {
          "base_uri": "https://localhost:8080/",
          "height": 35
        },
        "outputId": "88eb0a7a-afc7-4e84-a02a-ca4edd40a848"
      },
      "source": [
        "from google.colab import drive\n",
        "drive.mount('/content/drive')"
      ],
      "execution_count": 57,
      "outputs": [
        {
          "output_type": "stream",
          "text": [
            "Drive already mounted at /content/drive; to attempt to forcibly remount, call drive.mount(\"/content/drive\", force_remount=True).\n"
          ],
          "name": "stdout"
        }
      ]
    },
    {
      "cell_type": "code",
      "metadata": {
        "id": "FJZ9iX59nPY2",
        "colab_type": "code",
        "colab": {}
      },
      "source": [
        "loc = '/content/drive/My Drive/ldaa/lda/data.csv'"
      ],
      "execution_count": 58,
      "outputs": []
    },
    {
      "cell_type": "code",
      "metadata": {
        "id": "dRDU19BKnQ3n",
        "colab_type": "code",
        "colab": {}
      },
      "source": [
        "from sklearn.feature_extraction.text import CountVectorizer\n",
        "from sklearn.decomposition import LatentDirichletAllocation as LDA\n",
        "import numpy as np\n",
        "import pandas as pd\n",
        "import re\n",
        "import matplotlib.pyplot as plt\n",
        "import seaborn as sns\n",
        "sns.set_style('whitegrid')"
      ],
      "execution_count": 59,
      "outputs": []
    },
    {
      "cell_type": "code",
      "metadata": {
        "id": "dBJvMJ5HnQ5n",
        "colab_type": "code",
        "colab": {
          "base_uri": "https://localhost:8080/",
          "height": 251
        },
        "outputId": "0bbf71db-c28c-4846-a4ff-25e695a12a7c"
      },
      "source": [
        "\n",
        "\n",
        "df = pd.read_csv(loc)\n",
        "print(df.head())\n",
        "print(df.columns)\n",
        "\n",
        "# Remove punctuation\n",
        "df['processed'] = df['text'].map(lambda x: re.sub('[,\\.!?]', '', x))\n",
        "# Convert the titles to lowercase\n",
        "df['processed'] = df['processed'].map(lambda x: x.lower())\n",
        "\n",
        "print(df['processed'].head())\n",
        "\n",
        "cv = CountVectorizer(stop_words='english')\n",
        "# Fit and transform the processed titles\n",
        "cv_data = cv.fit_transform(df['processed'])\n",
        "\n",
        "def print_topics(model, count_vectorizer, n_top_words):\n",
        "    words = count_vectorizer.get_feature_names()\n",
        "    for topic_idx, topic in enumerate(model.components_):\n",
        "        print(\"\\nTopic #%d:\" % topic_idx)\n",
        "        print(\" \".join([words[i]\n",
        "                        for i in topic.argsort()[:-n_top_words - 1:-1]]))\n"
      ],
      "execution_count": 60,
      "outputs": [
        {
          "output_type": "stream",
          "text": [
            "       Id                                               text\n",
            "0  8s9m4c  when i was a kid a fourdoor car was considered...\n",
            "1  2k8d1q  0nd floor accommodations in family friendlyqui...\n",
            "2  8z6i2m  large bdrm unit at a resort condo development ...\n",
            "3  6z0l1p  from oriolefanuiuc subject re instead of a sat...\n",
            "4  5m2c0d  snapchat has operated at a loss for virtually ...\n",
            "Index(['Id', 'text'], dtype='object')\n",
            "0    when i was a kid a fourdoor car was considered...\n",
            "1    0nd floor accommodations in family friendlyqui...\n",
            "2    large bdrm unit at a resort condo development ...\n",
            "3    from oriolefanuiuc subject re instead of a sat...\n",
            "4    snapchat has operated at a loss for virtually ...\n",
            "Name: processed, dtype: object\n"
          ],
          "name": "stdout"
        }
      ]
    },
    {
      "cell_type": "code",
      "metadata": {
        "id": "uvGXhpUPoNvR",
        "colab_type": "code",
        "colab": {
          "base_uri": "https://localhost:8080/",
          "height": 53
        },
        "outputId": "335626a5-0dc4-439b-b7f0-85fffa878045"
      },
      "source": [
        "!pip install guidedlda"
      ],
      "execution_count": 61,
      "outputs": [
        {
          "output_type": "stream",
          "text": [
            "Requirement already satisfied: guidedlda in /usr/local/lib/python3.6/dist-packages (2.0.0.dev22)\n",
            "Requirement already satisfied: numpy in /usr/local/lib/python3.6/dist-packages (from guidedlda) (1.18.5)\n"
          ],
          "name": "stdout"
        }
      ]
    },
    {
      "cell_type": "code",
      "metadata": {
        "id": "9Z5y15w2nQ8R",
        "colab_type": "code",
        "colab": {}
      },
      "source": [
        "import guidedlda\n"
      ],
      "execution_count": 62,
      "outputs": []
    },
    {
      "cell_type": "code",
      "metadata": {
        "id": "I5sb3gBznQ-m",
        "colab_type": "code",
        "colab": {}
      },
      "source": [
        "top= ['glassdoor_reviews','tech_news','room_rentals','sports_news','automobiles']"
      ],
      "execution_count": 63,
      "outputs": []
    },
    {
      "cell_type": "code",
      "metadata": {
        "id": "DnjK00-gnRA6",
        "colab_type": "code",
        "colab": {}
      },
      "source": [
        "vocab = cv.vocabulary_"
      ],
      "execution_count": 64,
      "outputs": []
    },
    {
      "cell_type": "code",
      "metadata": {
        "id": "TdK0nvQbnRDJ",
        "colab_type": "code",
        "colab": {}
      },
      "source": [
        "word2id = dict((v, idx) for idx, v in enumerate(vocab))"
      ],
      "execution_count": 65,
      "outputs": []
    },
    {
      "cell_type": "code",
      "metadata": {
        "id": "Sfydn5g3nRFQ",
        "colab_type": "code",
        "colab": {}
      },
      "source": [
        "model = guidedlda.GuidedLDA(n_topics=5, n_iter=100, random_state=7, refresh=20)"
      ],
      "execution_count": 66,
      "outputs": []
    },
    {
      "cell_type": "code",
      "metadata": {
        "id": "UlMr8CfSnRHT",
        "colab_type": "code",
        "colab": {
          "base_uri": "https://localhost:8080/",
          "height": 289
        },
        "outputId": "92c75c0f-dcfd-4fb9-dafa-b83b403b850a"
      },
      "source": [
        "model.fit(cv_data)"
      ],
      "execution_count": 67,
      "outputs": [
        {
          "output_type": "stream",
          "text": [
            "INFO:guidedlda:n_documents: 6248\n",
            "INFO:guidedlda:vocab_size: 22671\n",
            "INFO:guidedlda:n_words: 228181\n",
            "INFO:guidedlda:n_topics: 5\n",
            "INFO:guidedlda:n_iter: 100\n",
            "/usr/local/lib/python3.6/dist-packages/guidedlda/utils.py:55: FutureWarning: Conversion of the second argument of issubdtype from `int` to `np.signedinteger` is deprecated. In future, it will be treated as `np.int64 == np.dtype(int).type`.\n",
            "  if sparse and not np.issubdtype(doc_word.dtype, int):\n",
            "INFO:guidedlda:<0> log likelihood: -2559963\n",
            "INFO:guidedlda:<20> log likelihood: -1975941\n",
            "INFO:guidedlda:<40> log likelihood: -1927156\n",
            "INFO:guidedlda:<60> log likelihood: -1901394\n",
            "INFO:guidedlda:<80> log likelihood: -1891037\n",
            "INFO:guidedlda:<99> log likelihood: -1888564\n"
          ],
          "name": "stderr"
        },
        {
          "output_type": "execute_result",
          "data": {
            "text/plain": [
              "<guidedlda.guidedlda.GuidedLDA at 0x7f711fa84c50>"
            ]
          },
          "metadata": {
            "tags": []
          },
          "execution_count": 67
        }
      ]
    },
    {
      "cell_type": "code",
      "metadata": {
        "id": "MfBWvcQynRJM",
        "colab_type": "code",
        "colab": {
          "base_uri": "https://localhost:8080/",
          "height": 289
        },
        "outputId": "e3fb62d4-c61c-47a0-941f-79999764ff7b"
      },
      "source": [
        "model.fit(cv_data, seed_topics=top, seed_confidence=0.15)"
      ],
      "execution_count": 68,
      "outputs": [
        {
          "output_type": "stream",
          "text": [
            "INFO:guidedlda:n_documents: 6248\n",
            "INFO:guidedlda:vocab_size: 22671\n",
            "INFO:guidedlda:n_words: 228181\n",
            "INFO:guidedlda:n_topics: 5\n",
            "INFO:guidedlda:n_iter: 100\n",
            "/usr/local/lib/python3.6/dist-packages/guidedlda/utils.py:55: FutureWarning: Conversion of the second argument of issubdtype from `int` to `np.signedinteger` is deprecated. In future, it will be treated as `np.int64 == np.dtype(int).type`.\n",
            "  if sparse and not np.issubdtype(doc_word.dtype, int):\n",
            "INFO:guidedlda:<0> log likelihood: -2559963\n",
            "INFO:guidedlda:<20> log likelihood: -1975941\n",
            "INFO:guidedlda:<40> log likelihood: -1927156\n",
            "INFO:guidedlda:<60> log likelihood: -1901394\n",
            "INFO:guidedlda:<80> log likelihood: -1891037\n",
            "INFO:guidedlda:<99> log likelihood: -1888564\n"
          ],
          "name": "stderr"
        },
        {
          "output_type": "execute_result",
          "data": {
            "text/plain": [
              "<guidedlda.guidedlda.GuidedLDA at 0x7f711fa84c50>"
            ]
          },
          "metadata": {
            "tags": []
          },
          "execution_count": 68
        }
      ]
    },
    {
      "cell_type": "code",
      "metadata": {
        "id": "MbxU-1a3pQ4q",
        "colab_type": "code",
        "colab": {
          "base_uri": "https://localhost:8080/",
          "height": 73
        },
        "outputId": "856681a7-414e-433a-9ceb-aa10d8e4a352"
      },
      "source": [
        "doc_topic = model.transform(cv_data)"
      ],
      "execution_count": 69,
      "outputs": [
        {
          "output_type": "stream",
          "text": [
            "/usr/local/lib/python3.6/dist-packages/guidedlda/utils.py:55: FutureWarning: Conversion of the second argument of issubdtype from `int` to `np.signedinteger` is deprecated. In future, it will be treated as `np.int64 == np.dtype(int).type`.\n",
            "  if sparse and not np.issubdtype(doc_word.dtype, int):\n"
          ],
          "name": "stderr"
        }
      ]
    },
    {
      "cell_type": "code",
      "metadata": {
        "id": "BSk1INuup4M7",
        "colab_type": "code",
        "colab": {
          "base_uri": "https://localhost:8080/",
          "height": 53
        },
        "outputId": "a3e00955-d1be-48db-b0d9-ba8aa5510df0"
      },
      "source": [
        "doc_topic[0]"
      ],
      "execution_count": 70,
      "outputs": [
        {
          "output_type": "execute_result",
          "data": {
            "text/plain": [
              "array([2.19152497e-01, 3.02792582e-03, 7.77457222e-01, 2.06843509e-04,\n",
              "       1.55511855e-04])"
            ]
          },
          "metadata": {
            "tags": []
          },
          "execution_count": 70
        }
      ]
    },
    {
      "cell_type": "code",
      "metadata": {
        "id": "ogrNZQ1SqL4M",
        "colab_type": "code",
        "colab": {
          "base_uri": "https://localhost:8080/",
          "height": 35
        },
        "outputId": "cec12a4c-2e8b-4baa-f19c-d4a2246897da"
      },
      "source": [
        "len(doc_topic)"
      ],
      "execution_count": 71,
      "outputs": [
        {
          "output_type": "execute_result",
          "data": {
            "text/plain": [
              "6248"
            ]
          },
          "metadata": {
            "tags": []
          },
          "execution_count": 71
        }
      ]
    },
    {
      "cell_type": "code",
      "metadata": {
        "id": "LbXjEKtErdq9",
        "colab_type": "code",
        "colab": {
          "base_uri": "https://localhost:8080/",
          "height": 35
        },
        "outputId": "42d2d59c-2751-4b75-b390-66b7f0b2a558"
      },
      "source": [
        "len(df)"
      ],
      "execution_count": 72,
      "outputs": [
        {
          "output_type": "execute_result",
          "data": {
            "text/plain": [
              "6248"
            ]
          },
          "metadata": {
            "tags": []
          },
          "execution_count": 72
        }
      ]
    },
    {
      "cell_type": "code",
      "metadata": {
        "id": "6Zo4JOF2rfq4",
        "colab_type": "code",
        "colab": {
          "base_uri": "https://localhost:8080/",
          "height": 53
        },
        "outputId": "2a40331c-4db7-4950-cafc-31e5c7235cef"
      },
      "source": [
        "doc_topic[20]"
      ],
      "execution_count": 73,
      "outputs": [
        {
          "output_type": "execute_result",
          "data": {
            "text/plain": [
              "array([2.62679941e-01, 5.61569637e-04, 2.60673256e-03, 7.32870579e-01,\n",
              "       1.28117723e-03])"
            ]
          },
          "metadata": {
            "tags": []
          },
          "execution_count": 73
        }
      ]
    },
    {
      "cell_type": "code",
      "metadata": {
        "id": "gYzO6Mlu5Suf",
        "colab_type": "code",
        "colab": {}
      },
      "source": [
        "proba = pd.DataFrame(doc_topic)\n",
        "proba.columns = top"
      ],
      "execution_count": 74,
      "outputs": []
    },
    {
      "cell_type": "code",
      "metadata": {
        "id": "GKTqvSer3PmX",
        "colab_type": "code",
        "colab": {}
      },
      "source": [
        "op =df.merge(proba,left_index= True,right_index =True)"
      ],
      "execution_count": 75,
      "outputs": []
    },
    {
      "cell_type": "code",
      "metadata": {
        "id": "PfalLVjW9Rdt",
        "colab_type": "code",
        "colab": {
          "base_uri": "https://localhost:8080/",
          "height": 204
        },
        "outputId": "c25f978e-2fd8-47cc-d9a9-3aaeb0aa7c87"
      },
      "source": [
        "op.head()"
      ],
      "execution_count": 76,
      "outputs": [
        {
          "output_type": "execute_result",
          "data": {
            "text/html": [
              "<div>\n",
              "<style scoped>\n",
              "    .dataframe tbody tr th:only-of-type {\n",
              "        vertical-align: middle;\n",
              "    }\n",
              "\n",
              "    .dataframe tbody tr th {\n",
              "        vertical-align: top;\n",
              "    }\n",
              "\n",
              "    .dataframe thead th {\n",
              "        text-align: right;\n",
              "    }\n",
              "</style>\n",
              "<table border=\"1\" class=\"dataframe\">\n",
              "  <thead>\n",
              "    <tr style=\"text-align: right;\">\n",
              "      <th></th>\n",
              "      <th>Id</th>\n",
              "      <th>text</th>\n",
              "      <th>processed</th>\n",
              "      <th>glassdoor_reviews</th>\n",
              "      <th>tech_news</th>\n",
              "      <th>room_rentals</th>\n",
              "      <th>sports_news</th>\n",
              "      <th>automobiles</th>\n",
              "    </tr>\n",
              "  </thead>\n",
              "  <tbody>\n",
              "    <tr>\n",
              "      <th>0</th>\n",
              "      <td>8s9m4c</td>\n",
              "      <td>when i was a kid a fourdoor car was considered...</td>\n",
              "      <td>when i was a kid a fourdoor car was considered...</td>\n",
              "      <td>0.219152</td>\n",
              "      <td>0.003028</td>\n",
              "      <td>0.777457</td>\n",
              "      <td>0.000207</td>\n",
              "      <td>0.000156</td>\n",
              "    </tr>\n",
              "    <tr>\n",
              "      <th>1</th>\n",
              "      <td>2k8d1q</td>\n",
              "      <td>0nd floor accommodations in family friendlyqui...</td>\n",
              "      <td>0nd floor accommodations in family friendlyqui...</td>\n",
              "      <td>0.000033</td>\n",
              "      <td>0.000220</td>\n",
              "      <td>0.000121</td>\n",
              "      <td>0.048363</td>\n",
              "      <td>0.951263</td>\n",
              "    </tr>\n",
              "    <tr>\n",
              "      <th>2</th>\n",
              "      <td>8z6i2m</td>\n",
              "      <td>large bdrm unit at a resort condo development ...</td>\n",
              "      <td>large bdrm unit at a resort condo development ...</td>\n",
              "      <td>0.000108</td>\n",
              "      <td>0.000211</td>\n",
              "      <td>0.000106</td>\n",
              "      <td>0.000107</td>\n",
              "      <td>0.999468</td>\n",
              "    </tr>\n",
              "    <tr>\n",
              "      <th>3</th>\n",
              "      <td>6z0l1p</td>\n",
              "      <td>from oriolefanuiuc subject re instead of a sat...</td>\n",
              "      <td>from oriolefanuiuc subject re instead of a sat...</td>\n",
              "      <td>0.000066</td>\n",
              "      <td>0.000024</td>\n",
              "      <td>0.999866</td>\n",
              "      <td>0.000031</td>\n",
              "      <td>0.000014</td>\n",
              "    </tr>\n",
              "    <tr>\n",
              "      <th>4</th>\n",
              "      <td>5m2c0d</td>\n",
              "      <td>snapchat has operated at a loss for virtually ...</td>\n",
              "      <td>snapchat has operated at a loss for virtually ...</td>\n",
              "      <td>0.576424</td>\n",
              "      <td>0.000417</td>\n",
              "      <td>0.422464</td>\n",
              "      <td>0.000219</td>\n",
              "      <td>0.000477</td>\n",
              "    </tr>\n",
              "  </tbody>\n",
              "</table>\n",
              "</div>"
            ],
            "text/plain": [
              "       Id  ... automobiles\n",
              "0  8s9m4c  ...    0.000156\n",
              "1  2k8d1q  ...    0.951263\n",
              "2  8z6i2m  ...    0.999468\n",
              "3  6z0l1p  ...    0.000014\n",
              "4  5m2c0d  ...    0.000477\n",
              "\n",
              "[5 rows x 8 columns]"
            ]
          },
          "metadata": {
            "tags": []
          },
          "execution_count": 76
        }
      ]
    },
    {
      "cell_type": "code",
      "metadata": {
        "id": "SspWpPj4ATGQ",
        "colab_type": "code",
        "colab": {}
      },
      "source": [
        "model."
      ],
      "execution_count": null,
      "outputs": []
    },
    {
      "cell_type": "code",
      "metadata": {
        "id": "Ued_q0NK5P38",
        "colab_type": "code",
        "colab": {}
      },
      "source": [
        "op.to_csv('/content/drive/My Drive/ldaa/lda/op2.csv')"
      ],
      "execution_count": 77,
      "outputs": []
    },
    {
      "cell_type": "code",
      "metadata": {
        "id": "QMUQDkts9olc",
        "colab_type": "code",
        "colab": {}
      },
      "source": [
        ""
      ],
      "execution_count": 77,
      "outputs": []
    }
  ]
}